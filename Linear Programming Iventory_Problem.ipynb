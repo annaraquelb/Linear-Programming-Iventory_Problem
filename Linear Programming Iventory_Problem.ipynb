{
 "cells": [
  {
   "cell_type": "markdown",
   "id": "a0868c1d",
   "metadata": {},
   "source": [
    "example 3.6-1 Operations Research An Introduction by Hamdy A. Taha\n",
    "\n",
    "JOBCO manufactures two products on two machines. A unit of product 1 requires 2 hrs on machine 1 and 1 hr on machine 2. For product 2, one unit requires 1 hr on machine 1 and 3 hrs on machine 2. The revenues per unit of products 1 and 2 are $30 and $20, respectively. The total daily processing time available for each machine is 8 hrs. Letting x1 and x2 represent the daily number of units of products 1 and 2, respectively.\n"
   ]
  },
  {
   "cell_type": "code",
   "execution_count": 1,
   "id": "b8c4bd0c",
   "metadata": {},
   "outputs": [],
   "source": [
    "from pulp import*\n",
    "import pandas as pd\n"
   ]
  },
  {
   "cell_type": "code",
   "execution_count": 3,
   "id": "1eb11044",
   "metadata": {},
   "outputs": [
    {
     "name": "stdout",
     "output_type": "stream",
     "text": [
      "Status: Optimal\n",
      "machine1 = 3.2 \tReduced Costs =  None\n",
      "machine_2 = 1.6 \tReduced Costs =  None\n",
      "       name Shadow Price Slack\n",
      "0  machine1         None  None\n",
      "1  machine2         None  None\n"
     ]
    }
   ],
   "source": [
    "from pulp import*\n",
    "\n",
    "prob = LpProblem(\"Iventory_Problem\", LpMaximize)\n",
    "x1 = LpVariable(\"machine1\", 0)\n",
    "x2 = LpVariable(\"machine 2\", 0)\n",
    "\n",
    "\n",
    "prob += 30*x1  + 20*x2, \" objective\"\n",
    "prob += 2*x1 + x2 <= 8, \"machine1\"\n",
    "prob += 1*x1+ 3*x2 <= 8, \"machine2\"\n",
    "\n",
    "\n",
    "prob.writeLP(\"Iventory_Problem.lp\")\n",
    "prob.solve(GLPK(options=['--ranges sensit1.sen']))\n",
    "print(\"Status:\", LpStatus[prob.status]) ##solution status\n",
    "\n",
    "\n",
    "for v in prob.variables():\n",
    "    print(v.name, \"=\", v.varValue, \"\\tReduced Costs = \", v.dj)\n",
    "    \n",
    "s=[{'name': name, 'Shadow Price': c.pi, \"Slack\": c.slack} for name, c in prob.constraints.items()] ## sensitivity analysis\n",
    "print(pd.DataFrame(s))\n"
   ]
  },
  {
   "cell_type": "code",
   "execution_count": null,
   "id": "4bc09cf9",
   "metadata": {},
   "outputs": [],
   "source": []
  },
  {
   "cell_type": "code",
   "execution_count": null,
   "id": "ab21bba6",
   "metadata": {},
   "outputs": [],
   "source": []
  }
 ],
 "metadata": {
  "kernelspec": {
   "display_name": "Python 3",
   "language": "python",
   "name": "python3"
  },
  "language_info": {
   "codemirror_mode": {
    "name": "ipython",
    "version": 3
   },
   "file_extension": ".py",
   "mimetype": "text/x-python",
   "name": "python",
   "nbconvert_exporter": "python",
   "pygments_lexer": "ipython3",
   "version": "3.8.8"
  }
 },
 "nbformat": 4,
 "nbformat_minor": 5
}
